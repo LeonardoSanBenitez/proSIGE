{
 "cells": [
  {
   "cell_type": "markdown",
   "metadata": {},
   "source": [
    "# Conceptualization\n",
    "* This component takes two CSV files as input\n",
    "* Those CSV can be generated from a excel file, a SQL or non-SQL database, a power BI enviroment, and so forth"
   ]
  },
  {
   "cell_type": "code",
   "execution_count": 2,
   "metadata": {},
   "outputs": [],
   "source": [
    "import pandas as pd\n",
    "pd.set_option('display.max_columns', None)\n",
    "pd.set_option('display.max_rows', 10000000)\n",
    "\n",
    "import numpy as np\n",
    "\n",
    "import seaborn as sns\n",
    "\n",
    "import matplotlib.pyplot as plt\n",
    "%matplotlib inline\n",
    "\n",
    "FLAG_EXPORT = True\n",
    "\n",
    "out_path = 'assets/'"
   ]
  },
  {
   "cell_type": "code",
   "execution_count": 2,
   "metadata": {},
   "outputs": [
    {
     "data": {
      "text/html": [
       "<div>\n",
       "<style scoped>\n",
       "    .dataframe tbody tr th:only-of-type {\n",
       "        vertical-align: middle;\n",
       "    }\n",
       "\n",
       "    .dataframe tbody tr th {\n",
       "        vertical-align: top;\n",
       "    }\n",
       "\n",
       "    .dataframe thead th {\n",
       "        text-align: right;\n",
       "    }\n",
       "</style>\n",
       "<table border=\"1\" class=\"dataframe\">\n",
       "  <thead>\n",
       "    <tr style=\"text-align: right;\">\n",
       "      <th></th>\n",
       "      <th>timestamp</th>\n",
       "      <th>temp_celsius</th>\n",
       "      <th>pression</th>\n",
       "      <th>precipitation</th>\n",
       "      <th>windspeed_mps</th>\n",
       "    </tr>\n",
       "  </thead>\n",
       "  <tbody>\n",
       "    <tr>\n",
       "      <td>0</td>\n",
       "      <td>2018-01-31 00:00:00-02</td>\n",
       "      <td>21</td>\n",
       "      <td>1011.7</td>\n",
       "      <td>0.0</td>\n",
       "      <td>1.2</td>\n",
       "    </tr>\n",
       "    <tr>\n",
       "      <td>1</td>\n",
       "      <td>2018-01-31 01:00:00-02</td>\n",
       "      <td>21</td>\n",
       "      <td>1011.5</td>\n",
       "      <td>0.0</td>\n",
       "      <td>1.5</td>\n",
       "    </tr>\n",
       "    <tr>\n",
       "      <td>2</td>\n",
       "      <td>2018-01-31 02:00:00-02</td>\n",
       "      <td>20</td>\n",
       "      <td>1011.0</td>\n",
       "      <td>0.0</td>\n",
       "      <td>1.8</td>\n",
       "    </tr>\n",
       "    <tr>\n",
       "      <td>3</td>\n",
       "      <td>2018-01-31 03:00:00-02</td>\n",
       "      <td>20</td>\n",
       "      <td>1010.2</td>\n",
       "      <td>0.0</td>\n",
       "      <td>1.7</td>\n",
       "    </tr>\n",
       "    <tr>\n",
       "      <td>4</td>\n",
       "      <td>2018-01-31 04:00:00-02</td>\n",
       "      <td>20</td>\n",
       "      <td>1009.9</td>\n",
       "      <td>0.0</td>\n",
       "      <td>1.8</td>\n",
       "    </tr>\n",
       "  </tbody>\n",
       "</table>\n",
       "</div>"
      ],
      "text/plain": [
       "                timestamp  temp_celsius  pression  precipitation  \\\n",
       "0  2018-01-31 00:00:00-02            21    1011.7            0.0   \n",
       "1  2018-01-31 01:00:00-02            21    1011.5            0.0   \n",
       "2  2018-01-31 02:00:00-02            20    1011.0            0.0   \n",
       "3  2018-01-31 03:00:00-02            20    1010.2            0.0   \n",
       "4  2018-01-31 04:00:00-02            20    1009.9            0.0   \n",
       "\n",
       "   windspeed_mps  \n",
       "0            1.2  \n",
       "1            1.5  \n",
       "2            1.8  \n",
       "3            1.7  \n",
       "4            1.8  "
      ]
     },
     "execution_count": 2,
     "metadata": {},
     "output_type": "execute_result"
    }
   ],
   "source": [
    "raw1 = pd.read_csv (out_path + \"dataset.cvs\", header=0)\n",
    "raw1.head()"
   ]
  },
  {
   "cell_type": "code",
   "execution_count": 3,
   "metadata": {},
   "outputs": [
    {
     "data": {
      "text/html": [
       "<div>\n",
       "<style scoped>\n",
       "    .dataframe tbody tr th:only-of-type {\n",
       "        vertical-align: middle;\n",
       "    }\n",
       "\n",
       "    .dataframe tbody tr th {\n",
       "        vertical-align: top;\n",
       "    }\n",
       "\n",
       "    .dataframe thead th {\n",
       "        text-align: right;\n",
       "    }\n",
       "</style>\n",
       "<table border=\"1\" class=\"dataframe\">\n",
       "  <thead>\n",
       "    <tr style=\"text-align: right;\">\n",
       "      <th></th>\n",
       "      <th>temp_celsius</th>\n",
       "      <th>pression</th>\n",
       "      <th>precipitation</th>\n",
       "      <th>windspeed_mps</th>\n",
       "    </tr>\n",
       "  </thead>\n",
       "  <tbody>\n",
       "    <tr>\n",
       "      <td>count</td>\n",
       "      <td>16365.000000</td>\n",
       "      <td>16365.000000</td>\n",
       "      <td>16365.000000</td>\n",
       "      <td>16365.000000</td>\n",
       "    </tr>\n",
       "    <tr>\n",
       "      <td>mean</td>\n",
       "      <td>21.709502</td>\n",
       "      <td>1015.286227</td>\n",
       "      <td>0.093981</td>\n",
       "      <td>2.228555</td>\n",
       "    </tr>\n",
       "    <tr>\n",
       "      <td>std</td>\n",
       "      <td>3.870892</td>\n",
       "      <td>3.177252</td>\n",
       "      <td>0.504643</td>\n",
       "      <td>1.040920</td>\n",
       "    </tr>\n",
       "    <tr>\n",
       "      <td>min</td>\n",
       "      <td>10.000000</td>\n",
       "      <td>1005.100000</td>\n",
       "      <td>0.000000</td>\n",
       "      <td>0.000000</td>\n",
       "    </tr>\n",
       "    <tr>\n",
       "      <td>25%</td>\n",
       "      <td>19.000000</td>\n",
       "      <td>1013.100000</td>\n",
       "      <td>0.000000</td>\n",
       "      <td>1.500000</td>\n",
       "    </tr>\n",
       "    <tr>\n",
       "      <td>50%</td>\n",
       "      <td>21.000000</td>\n",
       "      <td>1015.100000</td>\n",
       "      <td>0.000000</td>\n",
       "      <td>2.000000</td>\n",
       "    </tr>\n",
       "    <tr>\n",
       "      <td>75%</td>\n",
       "      <td>24.000000</td>\n",
       "      <td>1017.400000</td>\n",
       "      <td>0.000000</td>\n",
       "      <td>2.800000</td>\n",
       "    </tr>\n",
       "    <tr>\n",
       "      <td>max</td>\n",
       "      <td>34.000000</td>\n",
       "      <td>1026.300000</td>\n",
       "      <td>18.000000</td>\n",
       "      <td>7.900000</td>\n",
       "    </tr>\n",
       "  </tbody>\n",
       "</table>\n",
       "</div>"
      ],
      "text/plain": [
       "       temp_celsius      pression  precipitation  windspeed_mps\n",
       "count  16365.000000  16365.000000   16365.000000   16365.000000\n",
       "mean      21.709502   1015.286227       0.093981       2.228555\n",
       "std        3.870892      3.177252       0.504643       1.040920\n",
       "min       10.000000   1005.100000       0.000000       0.000000\n",
       "25%       19.000000   1013.100000       0.000000       1.500000\n",
       "50%       21.000000   1015.100000       0.000000       2.000000\n",
       "75%       24.000000   1017.400000       0.000000       2.800000\n",
       "max       34.000000   1026.300000      18.000000       7.900000"
      ]
     },
     "execution_count": 3,
     "metadata": {},
     "output_type": "execute_result"
    }
   ],
   "source": [
    "raw1.describe()"
   ]
  },
  {
   "cell_type": "code",
   "execution_count": 4,
   "metadata": {},
   "outputs": [
    {
     "data": {
      "image/png": "[encoded data removed]",
      "text/plain": [
       "<Figure size 720x288 with 4 Axes>"
      ]
     },
     "metadata": {
      "needs_background": "light"
     },
     "output_type": "display_data"
    }
   ],
   "source": [
    "raw1.plot.kde(subplots=True, sharex=False, figsize=(10,4), layout=(2,2))\n",
    "if FLAG_EXPORT: plt.savefig(out_path+'graph_kde1.eps')\n",
    "# Salve em eps (formato vetorial) para publicação em artigos, mas pro dia-a-dia pode ser png"
   ]
  }
 ],
 "metadata": {
  "kernelspec": {
   "display_name": "Python 3",
   "language": "python",
   "name": "python3"
  },
  "language_info": {
   "codemirror_mode": {
    "name": "ipython",
    "version": 3
   },
   "file_extension": ".py",
   "mimetype": "text/x-python",
   "name": "python",
   "nbconvert_exporter": "python",
   "pygments_lexer": "ipython3",
   "version": "3.6.9"
  }
 },
 "nbformat": 4,
 "nbformat_minor": 2
}